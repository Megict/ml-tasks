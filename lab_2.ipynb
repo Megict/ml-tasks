{
 "cells": [
  {
   "cell_type": "code",
   "execution_count": 1,
   "id": "30589857",
   "metadata": {},
   "outputs": [],
   "source": [
    "import pygmo\n",
    "import numpy as np"
   ]
  },
  {
   "cell_type": "code",
   "execution_count": 2,
   "id": "4fab5848",
   "metadata": {},
   "outputs": [],
   "source": [
    "def f_1(point: np.array):\n",
    "    return np.sum(np.power(point, 2), axis = -1)\n",
    "\n",
    "def f_2(point: np.array):\n",
    "    return 0.26*np.sum(np.power(point, 2), axis = -1) - 0.48*np.prod(point, axis = -1)\n",
    "\n",
    "def f_3(point):\n",
    "    x, y = point\n",
    "    return x*x + 2*x + x*y*y*x -10*x*y\n",
    "\n",
    "def grad(func, point, delta = 1e-5):\n",
    "    delta_x = func(point + (delta, 0)) - func(point)\n",
    "    delta_y = func(point + (0, delta)) - func(point)\n",
    "    return np.array([delta_x / delta, delta_y / delta])"
   ]
  },
  {
   "cell_type": "markdown",
   "id": "3e776eed",
   "metadata": {},
   "source": [
    "## Создание класса кастомной проблемы"
   ]
  },
  {
   "cell_type": "code",
   "execution_count": 3,
   "id": "9e68699f",
   "metadata": {},
   "outputs": [],
   "source": [
    "class function_extrem_problem():\n",
    "    def __init__(self, func):\n",
    "        self.func = func\n",
    "        \n",
    "    def fitness(self, dv : np.array):\n",
    "        return [self.func(dv)]\n",
    "    \n",
    "    def get_bounds(self):\n",
    "        return ([-100, -100],\n",
    "                [100, 100])"
   ]
  },
  {
   "cell_type": "markdown",
   "id": "9c251175",
   "metadata": {},
   "source": [
    "### Оптимизация первой функции"
   ]
  },
  {
   "cell_type": "code",
   "execution_count": 4,
   "id": "76199430",
   "metadata": {},
   "outputs": [],
   "source": [
    "prob = pygmo.problem(function_extrem_problem(f_1))"
   ]
  },
  {
   "cell_type": "markdown",
   "id": "6ca3f103",
   "metadata": {},
   "source": [
    "##### Решение с помощью *simple genetic algoritm*"
   ]
  },
  {
   "cell_type": "code",
   "execution_count": 5,
   "id": "1ec520dd",
   "metadata": {},
   "outputs": [],
   "source": [
    "algo = pygmo.algorithm(pygmo.sga(gen = 1000))\n",
    "algo.set_verbosity(50)\n",
    "pop = pygmo.population(prob, 20)\n",
    "pop = algo.evolve(pop)"
   ]
  },
  {
   "cell_type": "code",
   "execution_count": 6,
   "id": "ed370413",
   "metadata": {},
   "outputs": [
    {
     "data": {
      "text/plain": [
       "[(1, 20, 200.52678572517615, 0.0),\n",
       " (51, 1020, 12.911046786080005, 0.0),\n",
       " (101, 2020, 12.261607907950578, 0.0),\n",
       " (151, 3020, 12.261607907950578, 0.0),\n",
       " (201, 4020, 1.493294523493647, 0.0),\n",
       " (251, 5020, 1.493294523493647, 0.0),\n",
       " (301, 6020, 0.19755629662286076, 0.0),\n",
       " (351, 7020, 0.19755629662286076, 0.0),\n",
       " (401, 8020, 0.029576999669135195, 0.0),\n",
       " (451, 9020, 0.029576999669135195, 0.0),\n",
       " (501, 10020, 0.029576999669135195, 0.0),\n",
       " (551, 11020, 0.029576999669135195, 0.0),\n",
       " (601, 12020, 0.029576999669135195, 0.0),\n",
       " (651, 13020, 0.029576999669135195, 0.0),\n",
       " (701, 14020, 0.029508744851686246, 0.0),\n",
       " (751, 15020, 0.029508744851686246, 0.0),\n",
       " (801, 16020, 0.029508744851686246, 0.0),\n",
       " (851, 17020, 0.029508744851686246, 0.0),\n",
       " (901, 18020, 0.029508744851686246, 0.0),\n",
       " (951, 19020, 0.029508744851686246, 0.0)]"
      ]
     },
     "execution_count": 6,
     "metadata": {},
     "output_type": "execute_result"
    }
   ],
   "source": [
    "uda = algo.extract(pygmo.sga)\n",
    "uda.get_log()"
   ]
  },
  {
   "cell_type": "code",
   "execution_count": 7,
   "id": "ab5fe6ec",
   "metadata": {},
   "outputs": [
    {
     "name": "stdout",
     "output_type": "stream",
     "text": [
      "[0.02950874]\n",
      "[0.00818624 0.17158593]\n"
     ]
    }
   ],
   "source": [
    "print(pop.champion_f)\n",
    "print(pop.champion_x)"
   ]
  },
  {
   "cell_type": "markdown",
   "id": "380b2f54",
   "metadata": {},
   "source": [
    "##### Решение с помощью *bee colony*"
   ]
  },
  {
   "cell_type": "code",
   "execution_count": 8,
   "id": "32bcdc0a",
   "metadata": {},
   "outputs": [],
   "source": [
    "algo = pygmo.algorithm(pygmo.bee_colony(gen = 100, limit = 20))\n",
    "algo.set_verbosity(5)\n",
    "pop = pygmo.population(prob, 20)\n",
    "pop = algo.evolve(pop)"
   ]
  },
  {
   "cell_type": "code",
   "execution_count": 9,
   "id": "e692c810",
   "metadata": {},
   "outputs": [
    {
     "data": {
      "text/plain": [
       "[(1, 40, 380.77304613525723, 380.77304613525723),\n",
       " (6, 240, 0.841819713754558, 2.090491329255851),\n",
       " (11, 440, 0.841819713754558, 18.064938988297804),\n",
       " (16, 640, 0.841819713754558, 0.9409956306882723),\n",
       " (21, 840, 0.23220904051055768, 0.23220904051055768),\n",
       " (26, 1040, 0.00011873132173328492, 0.00011873132173328492),\n",
       " (31, 1240, 4.3871280722474604e-05, 4.3871280722474604e-05),\n",
       " (36, 1440, 4.3871280722474604e-05, 4.669484933444525e-05),\n",
       " (41, 1640, 4.119553241794604e-06, 4.119553241794604e-06),\n",
       " (46, 1840, 1.0086674221720683e-06, 1.0086674221720683e-06),\n",
       " (51, 2040, 1.7893980616721714e-07, 1.7893980616721714e-07),\n",
       " (56, 2240, 1.0262431818499032e-07, 1.0262431818499032e-07),\n",
       " (61, 2440, 1.904465587098901e-09, 1.904465587098901e-09),\n",
       " (66, 2640, 1.8026344455263926e-09, 1.8026344455263926e-09),\n",
       " (71, 2840, 3.557229088063727e-10, 3.557229088063727e-10),\n",
       " (76, 3040, 4.25252469876376e-12, 4.25252469876376e-12),\n",
       " (81, 3240, 4.243360734931548e-12, 4.243360734931548e-12),\n",
       " (86, 3440, 4.243360734931548e-12, 4.243360734931548e-12),\n",
       " (91, 3640, 3.75290690175982e-15, 3.75290690175982e-15),\n",
       " (96, 3840, 1.3416714493996669e-15, 1.3416714493996669e-15)]"
      ]
     },
     "execution_count": 9,
     "metadata": {},
     "output_type": "execute_result"
    }
   ],
   "source": [
    "uda = algo.extract(pygmo.bee_colony)\n",
    "uda.get_log()"
   ]
  },
  {
   "cell_type": "code",
   "execution_count": 10,
   "id": "ecb56f71",
   "metadata": {},
   "outputs": [
    {
     "name": "stdout",
     "output_type": "stream",
     "text": [
      "[9.41419929e-16]\n",
      "[2.32925961e-09 3.05940268e-08]\n"
     ]
    }
   ],
   "source": [
    "print(pop.champion_f)\n",
    "print(pop.champion_x)"
   ]
  },
  {
   "cell_type": "markdown",
   "id": "7c6d3697",
   "metadata": {},
   "source": [
    "### Оптимизация второй функции"
   ]
  },
  {
   "cell_type": "code",
   "execution_count": 11,
   "id": "60de0196",
   "metadata": {},
   "outputs": [],
   "source": [
    "prob = pygmo.problem(function_extrem_problem(f_2))"
   ]
  },
  {
   "cell_type": "markdown",
   "id": "65d58b71",
   "metadata": {},
   "source": [
    "##### Решение с помощью *simple genetic algoritm*"
   ]
  },
  {
   "cell_type": "code",
   "execution_count": 12,
   "id": "6ebe4e11",
   "metadata": {},
   "outputs": [],
   "source": [
    "algo = pygmo.algorithm(pygmo.sga(gen = 1000))\n",
    "algo.set_verbosity(50)\n",
    "pop = pygmo.population(prob, 20)\n",
    "pop = algo.evolve(pop)"
   ]
  },
  {
   "cell_type": "code",
   "execution_count": 13,
   "id": "ed370413",
   "metadata": {},
   "outputs": [
    {
     "data": {
      "text/plain": [
       "[(1, 20, 27.72062098851802, 0.0),\n",
       " (51, 1020, 25.063012726162526, 0.0),\n",
       " (101, 2020, 24.838416550949717, 0.0),\n",
       " (151, 3020, 24.838416550949717, 0.0),\n",
       " (201, 4020, 20.662264864309464, 0.0),\n",
       " (251, 5020, 19.555246545805346, 0.0),\n",
       " (301, 6020, 17.922387182128773, 0.0),\n",
       " (351, 7020, 15.252292555519233, 0.0),\n",
       " (401, 8020, 11.822505992411635, 0.0),\n",
       " (451, 9020, 11.822505992411635, 0.0),\n",
       " (501, 10020, 9.975832781724094, 0.0),\n",
       " (551, 11020, 7.772972456983098, 0.0),\n",
       " (601, 12020, 6.9809096886752116, 0.0),\n",
       " (651, 13020, 6.032856338133044, 0.0),\n",
       " (701, 14020, 6.032856338133044, 0.0),\n",
       " (751, 15020, 4.312845456284716, 0.0),\n",
       " (801, 16020, 2.0130984338596463, 0.0),\n",
       " (851, 17020, 2.0130984338596463, 0.0),\n",
       " (901, 18020, 1.8379411407898942, 0.0),\n",
       " (951, 19020, 1.8379411407898942, 0.0)]"
      ]
     },
     "execution_count": 13,
     "metadata": {},
     "output_type": "execute_result"
    }
   ],
   "source": [
    "uda = algo.extract(pygmo.sga)\n",
    "uda.get_log()"
   ]
  },
  {
   "cell_type": "code",
   "execution_count": 14,
   "id": "ff8840b2",
   "metadata": {},
   "outputs": [
    {
     "name": "stdout",
     "output_type": "stream",
     "text": [
      "[1.83794114]\n",
      "[6.8614538  6.01027035]\n"
     ]
    }
   ],
   "source": [
    "print(pop.champion_f)\n",
    "print(pop.champion_x)"
   ]
  },
  {
   "cell_type": "markdown",
   "id": "d802cfdb",
   "metadata": {},
   "source": [
    "##### Решение с помощью *bee colony*"
   ]
  },
  {
   "cell_type": "code",
   "execution_count": 15,
   "id": "2b976d08",
   "metadata": {},
   "outputs": [
    {
     "name": "stdout",
     "output_type": "stream",
     "text": [
      "\n",
      "   Gen:        Fevals:          Best:   Improvement:\n",
      "      1             20        200.527              0\n",
      "     51           1020         12.911              0\n",
      "    101           2020        12.2616              0\n",
      "    151           3020        12.2616              0\n",
      "    201           4020        1.49329              0\n",
      "    251           5020        1.49329              0\n",
      "    301           6020       0.197556              0\n",
      "    351           7020       0.197556              0\n",
      "    401           8020       0.029577              0\n",
      "    451           9020       0.029577              0\n",
      "    501          10020       0.029577              0\n",
      "    551          11020       0.029577              0\n",
      "    601          12020       0.029577              0\n",
      "    651          13020       0.029577              0\n",
      "    701          14020      0.0295087              0\n",
      "    751          15020      0.0295087              0\n",
      "    801          16020      0.0295087              0\n",
      "    851          17020      0.0295087              0\n",
      "    901          18020      0.0295087              0\n",
      "    951          19020      0.0295087              0\n",
      "\n",
      "   Gen:        Fevals:          Best: Current Best:\n",
      "      1             40        380.773        380.773\n",
      "      6            240        0.84182        2.09049\n",
      "     11            440        0.84182        18.0649\n",
      "     16            640        0.84182       0.940996\n",
      "     21            840       0.232209       0.232209\n",
      "     26           1040    0.000118731    0.000118731\n",
      "     31           1240    4.38713e-05    4.38713e-05\n",
      "     36           1440    4.38713e-05    4.66948e-05\n",
      "     41           1640    4.11955e-06    4.11955e-06\n",
      "     46           1840    1.00867e-06    1.00867e-06\n",
      "     51           2040     1.7894e-07     1.7894e-07\n",
      "     56           2240    1.02624e-07    1.02624e-07\n",
      "     61           2440    1.90447e-09    1.90447e-09\n",
      "     66           2640    1.80263e-09    1.80263e-09\n",
      "     71           2840    3.55723e-10    3.55723e-10\n",
      "     76           3040    4.25252e-12    4.25252e-12\n",
      "     81           3240    4.24336e-12    4.24336e-12\n",
      "     86           3440    4.24336e-12    4.24336e-12\n",
      "     91           3640    3.75291e-15    3.75291e-15\n",
      "     96           3840    1.34167e-15    1.34167e-15\n",
      "\n",
      "   Gen:        Fevals:          Best:   Improvement:\n",
      "      1             20        27.7206              0\n",
      "     51           1020         25.063              0\n",
      "    101           2020        24.8384              0\n",
      "    151           3020        24.8384              0\n",
      "    201           4020        20.6623              0\n",
      "    251           5020        19.5552              0\n",
      "    301           6020        17.9224              0\n",
      "    351           7020        15.2523              0\n",
      "    401           8020        11.8225              0\n",
      "    451           9020        11.8225              0\n",
      "    501          10020        9.97583              0\n",
      "    551          11020        7.77297              0\n",
      "    601          12020        6.98091              0\n",
      "    651          13020        6.03286              0\n",
      "    701          14020        6.03286              0\n",
      "    751          15020        4.31285              0\n",
      "    801          16020         2.0131              0\n",
      "    851          17020         2.0131              0\n",
      "    901          18020        1.83794              0\n",
      "    951          19020        1.83794              0\n",
      "\n",
      "   Gen:        Fevals:          Best: Current Best:\n",
      "      1             40        58.3533        58.3533\n",
      "      6            240        10.6402        10.6402\n",
      "     11            440        10.6402        13.2225\n",
      "     16            640       0.341903       0.341903\n",
      "     21            840       0.341903        3.13979\n",
      "     26           1040       0.341903        2.92618\n",
      "     31           1240       0.341903        2.23143\n",
      "     36           1440       0.341903        6.37612\n",
      "     41           1640       0.341903        6.18922\n",
      "     46           1840       0.341903        6.18922\n",
      "     51           2040       0.341903        5.03526\n",
      "     56           2240       0.341903        4.95249\n",
      "     61           2440       0.341903        4.42287\n",
      "     66      "
     ]
    }
   ],
   "source": [
    "algo = pygmo.algorithm(pygmo.bee_colony(gen = 100, limit = 20))\n",
    "algo.set_verbosity(5)\n",
    "pop = pygmo.population(prob, 20)\n",
    "pop = algo.evolve(pop)"
   ]
  },
  {
   "cell_type": "code",
   "execution_count": 16,
   "id": "e692c810",
   "metadata": {},
   "outputs": [
    {
     "data": {
      "text/plain": [
       "[(1, 40, 58.35325299724002, 58.35325299724002),\n",
       " (6, 240, 10.64018702774382, 10.64018702774382),\n",
       " (11, 440, 10.64018702774382, 13.222458705971349),\n",
       " (16, 640, 0.34190323474269735, 0.34190323474269735),\n",
       " (21, 840, 0.34190323474269735, 3.1397923434823127),\n",
       " (26, 1040, 0.34190323474269735, 2.92617987726123),\n",
       " (31, 1240, 0.34190323474269735, 2.231433194961852),\n",
       " (36, 1440, 0.34190323474269735, 6.376124088996349),\n",
       " (41, 1640, 0.34190323474269735, 6.1892241767586285),\n",
       " (46, 1840, 0.34190323474269735, 6.1892241767586285),\n",
       " (51, 2040, 0.34190323474269735, 5.035260774445817),\n",
       " (56, 2240, 0.34190323474269735, 4.95248962116122),\n",
       " (61, 2440, 0.34190323474269735, 4.422871113847783),\n",
       " (66, 2640, 0.34190323474269735, 4.37579477788271),\n",
       " (71, 2840, 0.34190323474269735, 4.37579477788271),\n",
       " (76, 3040, 0.047378038677696854, 0.047378038677696854),\n",
       " (81, 3240, 0.047378038677696854, 18.99951050620774),\n",
       " (86, 3440, 0.047378038677696854, 9.332988630184488),\n",
       " (91, 3640, 0.047378038677696854, 8.442695505312642),\n",
       " (96, 3840, 0.047378038677696854, 2.5525088227888055)]"
      ]
     },
     "execution_count": 16,
     "metadata": {},
     "output_type": "execute_result"
    }
   ],
   "source": [
    "uda = algo.extract(pygmo.bee_colony)\n",
    "uda.get_log()"
   ]
  },
  {
   "cell_type": "code",
   "execution_count": 17,
   "id": "ecb56f71",
   "metadata": {},
   "outputs": [
    {
     "name": "stdout",
     "output_type": "stream",
     "text": [
      "[0.04737804]\n",
      "[-0.93334311 -1.09254085]\n"
     ]
    }
   ],
   "source": [
    "print(pop.champion_f)\n",
    "print(pop.champion_x)"
   ]
  },
  {
   "cell_type": "markdown",
   "id": "606a5815",
   "metadata": {},
   "source": [
    "### Оптимизация третьей функции"
   ]
  },
  {
   "cell_type": "code",
   "execution_count": 18,
   "id": "d8595852",
   "metadata": {},
   "outputs": [],
   "source": [
    "prob = pygmo.problem(function_extrem_problem(f_3))"
   ]
  },
  {
   "cell_type": "markdown",
   "id": "1921b81c",
   "metadata": {},
   "source": [
    "##### Решение с помощью *simple genetic algoritm*"
   ]
  },
  {
   "cell_type": "code",
   "execution_count": 19,
   "id": "1ec520dd",
   "metadata": {},
   "outputs": [],
   "source": [
    "algo = pygmo.algorithm(pygmo.sga(gen = 1000))\n",
    "algo.set_verbosity(50)\n",
    "pop = pygmo.population(prob, 20)\n",
    "pop = algo.evolve(pop)"
   ]
  },
  {
   "cell_type": "code",
   "execution_count": 20,
   "id": "ed370413",
   "metadata": {},
   "outputs": [
    {
     "data": {
      "text/plain": [
       "[(1, 20, 601.6149638461447, 0.0),\n",
       " (51, 1020, -25.554231657825433, 0.0),\n",
       " (101, 2020, -25.554231657825433, 0.0),\n",
       " (151, 3020, -25.588264760168784, 0.0),\n",
       " (201, 4020, -25.588264760168784, 0.0),\n",
       " (251, 5020, -25.588264760168784, 0.0),\n",
       " (301, 6020, -25.588264760168784, 0.0),\n",
       " (351, 7020, -25.588264760168784, 0.0),\n",
       " (401, 8020, -25.588264760168784, 0.0),\n",
       " (451, 9020, -25.588264760168784, 0.0),\n",
       " (501, 10020, -25.588264760168784, 0.0),\n",
       " (551, 11020, -25.588264760168784, 0.0),\n",
       " (601, 12020, -25.588264760168784, 0.0),\n",
       " (651, 13020, -25.588264760168784, 0.0),\n",
       " (701, 14020, -25.588264760168784, 0.0),\n",
       " (751, 15020, -25.588264760168784, 0.0),\n",
       " (801, 16020, -25.588264760168784, 0.0),\n",
       " (851, 17020, -25.588264760168784, 0.0),\n",
       " (901, 18020, -25.588264760168784, 0.0),\n",
       " (951, 19020, -25.601780103153427, 0.0)]"
      ]
     },
     "execution_count": 20,
     "metadata": {},
     "output_type": "execute_result"
    }
   ],
   "source": [
    "uda = algo.extract(pygmo.sga)\n",
    "uda.get_log()"
   ]
  },
  {
   "cell_type": "code",
   "execution_count": 21,
   "id": "720f51ad",
   "metadata": {},
   "outputs": [
    {
     "name": "stdout",
     "output_type": "stream",
     "text": [
      "[-25.6017801]\n",
      "[-1.62655092 -3.02776131]\n"
     ]
    }
   ],
   "source": [
    "print(pop.champion_f)\n",
    "print(pop.champion_x)"
   ]
  },
  {
   "cell_type": "markdown",
   "id": "06357035",
   "metadata": {},
   "source": [
    "##### Решение с помощью *bee colony*"
   ]
  },
  {
   "cell_type": "code",
   "execution_count": 22,
   "id": "1a698a53",
   "metadata": {},
   "outputs": [],
   "source": [
    "algo = pygmo.algorithm(pygmo.bee_colony(gen = 100, limit = 20))\n",
    "algo.set_verbosity(5)\n",
    "pop = pygmo.population(prob, 20)\n",
    "pop = algo.evolve(pop)"
   ]
  },
  {
   "cell_type": "code",
   "execution_count": 23,
   "id": "e692c810",
   "metadata": {},
   "outputs": [
    {
     "data": {
      "text/plain": [
       "[(1, 40, 28.71904366774349, 28.71904366774349),\n",
       " (6, 240, -25.300681189942303, 576.3018984177754),\n",
       " (11, 440, -25.300681189942303, -25.260787838703784),\n",
       " (16, 640, -25.624557946457948, -25.624557946457948),\n",
       " (21, 840, -25.624557946457948, -25.603069419654812),\n",
       " (26, 1040, -25.85400741359786, -25.85400741359786),\n",
       " (31, 1240, -25.85400741359786, -25.85400741359786),\n",
       " (36, 1440, -25.976615266353637, -25.976615266353637),\n",
       " (41, 1640, -25.976615266353637, -25.976615266353637),\n",
       " (46, 1840, -25.976615266353637, -25.976615266353637),\n",
       " (51, 2040, -25.976615266353637, -25.9459234209461),\n",
       " (56, 2240, -25.976615266353637, -25.29722564390576),\n",
       " (61, 2440, -25.976615266353637, -25.29722564390576),\n",
       " (66, 2640, -25.976615266353637, -25.29722564390576),\n",
       " (71, 2840, -25.976615266353637, -22.288778837615062),\n",
       " (76, 3040, -25.976615266353637, -21.666202181730522),\n",
       " (81, 3240, -25.976615266353637, -21.965779624946578),\n",
       " (86, 3440, -25.976615266353637, -21.965779624946578),\n",
       " (91, 3640, -25.976615266353637, -21.965779624946578),\n",
       " (96, 3840, -25.976615266353637, -21.965779624946578)]"
      ]
     },
     "execution_count": 23,
     "metadata": {},
     "output_type": "execute_result"
    }
   ],
   "source": [
    "uda = algo.extract(pygmo.bee_colony)\n",
    "uda.get_log()"
   ]
  },
  {
   "cell_type": "code",
   "execution_count": 24,
   "id": "ecb56f71",
   "metadata": {},
   "outputs": [
    {
     "name": "stdout",
     "output_type": "stream",
     "text": [
      "[-25.97661527]\n",
      "[-1.15257782 -4.34698143]\n"
     ]
    }
   ],
   "source": [
    "print(pop.champion_f)\n",
    "print(pop.champion_x)"
   ]
  },
  {
   "cell_type": "code",
   "execution_count": null,
   "id": "06072a82",
   "metadata": {},
   "outputs": [],
   "source": []
  },
  {
   "cell_type": "code",
   "execution_count": null,
   "id": "8b0ae720",
   "metadata": {},
   "outputs": [],
   "source": []
  },
  {
   "cell_type": "code",
   "execution_count": null,
   "id": "9193cd45",
   "metadata": {},
   "outputs": [],
   "source": []
  },
  {
   "cell_type": "code",
   "execution_count": null,
   "id": "bb4c4e9f",
   "metadata": {},
   "outputs": [],
   "source": []
  },
  {
   "cell_type": "code",
   "execution_count": null,
   "id": "5b74760f",
   "metadata": {},
   "outputs": [],
   "source": []
  },
  {
   "cell_type": "code",
   "execution_count": null,
   "id": "402e6cc4",
   "metadata": {},
   "outputs": [],
   "source": []
  }
 ],
 "metadata": {
  "kernelspec": {
   "display_name": "Python 3 (ipykernel)",
   "language": "python",
   "name": "python3"
  },
  "language_info": {
   "codemirror_mode": {
    "name": "ipython",
    "version": 3
   },
   "file_extension": ".py",
   "mimetype": "text/x-python",
   "name": "python",
   "nbconvert_exporter": "python",
   "pygments_lexer": "ipython3",
   "version": "3.10.12"
  }
 },
 "nbformat": 4,
 "nbformat_minor": 5
}
